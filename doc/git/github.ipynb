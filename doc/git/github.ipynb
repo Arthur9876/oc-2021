{
 "cells": [
  {
   "cell_type": "markdown",
   "metadata": {},
   "source": [
    "# Git et GitHub\n",
    "\n",
    "Auteur: Ludovic Blanc, Gymnase du Bugnon  \n",
    "Date: Mai 2018\n",
    "\n",
    "<img src='img2/Git_logo.png' style=\"width:400px;\">"
   ]
  },
  {
   "cell_type": "markdown",
   "metadata": {},
   "source": [
    "## Gestion de versions avec Git\n",
    "\n",
    "Sources et références:\n",
    "* https://fr.wikipedia.org/wiki/Git\n",
    "* https://cours-web.ch/git/\n",
    "* https://gist.github.com/aquelito/8596717\n",
    "\n",
    "Git est un **logiciel de gestion de versions décentralisé**. C'est un logiciel **libre** créé en **2005** par Linus Torvalds, auteur du noyau Linux. En 2020, il s’agit du logiciel de gestion de versions le plus populaire qui est utilisé par plus de 40 millions de personnes.\n",
    "C'est un outil en **ligne de commande**. Pour du meilleur confort d'utilisation, il existe plusieurs logiciel et services en ligne offrant une interface graphique, par exemple **GitHub Desktop**.\n",
    "\n",
    "Il est codé en **c, Shell Unix, Perl, Tcl et GNU Bash**.\n",
    "\n",
    "Il utilise un système de connexion **pair à pair**. C'est-à-dire que le code informatique développé est stocké non seulement sur l’ordinateur de chaque contributeur du projet, mais il peut également l'être sur un serveur dédié. \n",
    "\n",
    "Voici quelques-uns des avantages que Git apporte:\n",
    "- Permet à un grand nombre de collaborateurs de travailler sur un même projet, en offrant une bonne gestion des modifications.\n",
    "- Permet de synchroniser un projet entre plusieurs collaborateurs, en ayant l’assurance que tous les fichiers soient à jour.\n",
    "- Permet d’avoir un historique précis de tous les changements et modifications d’un projet. Cela permet de clarifier les questions récurrentes: _“Où est la dernière version du fichier X?”_ et _“Qu’est-ce qui a été changé entre les révisions 41 et 42”?_."
   ]
  },
  {
   "cell_type": "markdown",
   "metadata": {},
   "source": [
    "### Annecdote \n",
    "Selon magazine PC World: « quand on lui a demandé pourquoi il avait appelé son logiciel “git”, qui est à peu près l'équivalent de “connard” en argot britannique, Linus Torvalds a répondu “je ne suis qu'un sale égocentrique, donc j'appelle tous mes projets d'après ma propre personne. D'abord Linux, puis Git.”»"
   ]
  },
  {
   "cell_type": "markdown",
   "metadata": {},
   "source": [
    "### Commandes\n",
    "\n",
    "Git dispose notamment des commandes suivantes:\n",
    "- `git status`\n",
    "- `git init` \n",
    "- `git clone`\n",
    "- `git add` \n",
    "- `git commit`\n",
    "- `git push` \n",
    "- `git pull`\n",
    "- `git branch`\n",
    "- `git checkout`\n",
    "\n",
    "Nous allons expliquer leur fonctionnement de base. La meilleur documentation reste l'aide en ligne de commande:\n",
    "\n",
    "    git help config\n",
    "    git help push\n",
    "    git help pull\n",
    "    git help branch"
   ]
  },
  {
   "cell_type": "markdown",
   "metadata": {},
   "source": [
    "### Configuration initiale\n",
    "\n",
    "Pour savoir qui modifie les fichiers et fait des opérations sur Git, il faut préciser son pseudo et son email.\n",
    "* Identity Name\n",
    "\n",
    "`git config --global user.name \"yourname\"` \n",
    "\n",
    "Il faut mettre son pseudo entre les guillemets.\n",
    "\n",
    "`git config --global user.email \"your@email.com\"` \n",
    "\n",
    "Il faut mettre son email entre les guillemets.\n",
    "On peut executer la commande suivante pour connaître ses réglages personnels:\n",
    "\n",
    "    git config --list"
   ]
  },
  {
   "cell_type": "markdown",
   "metadata": {},
   "source": [
    "### Exemple d'application\n",
    "\n",
    "Dabord nous allons créer un nouveau dossier dans lequel nous allons créer un nouveau répositoire Git. \n",
    "\n",
    "    mkdir gitdemo\n",
    "    cd gitdemo\n",
    "   \n",
    "Vérifions que nous sommes bien danc de nouveau dossier\n",
    "\n",
    "    pwd\n",
    "    \n",
    "    /Users/raphael/gitdemo"
   ]
  },
  {
   "cell_type": "markdown",
   "metadata": {},
   "source": [
    "En ce moment ce dossier ne contient pas de sous-dossiers cachés. Vérifions cela avec `ls -la`.\n",
    "\n",
    "    ls -la\n",
    "    drwxr-xr-x   2 raphael  staff    64  1 sep 20:36 .\n",
    "    drwxr-xr-x+ 94 raphael  staff  3008  1 sep 20:36 .."
   ]
  },
  {
   "cell_type": "markdown",
   "metadata": {},
   "source": [
    "### Initialiser Git\n",
    "\n",
    "Maintenant nous allons créer un nouveau répertoire dans ce dossier. Nous utilisons `git init`\n",
    "\n",
    "    git init\n",
    "    \n",
    "qui affiche\n",
    "\n",
    "    Dépôt Git vide initialisé dans /Users/raphael/gitdemo/.git/"
   ]
  },
  {
   "cell_type": "markdown",
   "metadata": {},
   "source": [
    "Maintenant nous devrions voir un dossier cachés `.git`.\n",
    "Vérifions-le avec\n",
    "\n",
    "    ls -la\n",
    "    \n",
    "qui affiche \n",
    "\n",
    "    drwxr-xr-x   3 raphael  staff    96  1 sep 20:38 .\n",
    "    drwxr-xr-x+ 94 raphael  staff  3008  1 sep 20:36 ..\n",
    "    drwxr-xr-x   9 raphael  staff   288  1 sep 20:38 .git"
   ]
  },
  {
   "cell_type": "markdown",
   "metadata": {},
   "source": [
    "Que se trouve dans ce dossier `.git`? Allons voir avec\n",
    "\n",
    "    ls -l .git\n",
    "    \n",
    " qui affiche\n",
    " \n",
    "    -rw-r--r--   1 raphael  staff   23  1 sep 20:38 HEAD\n",
    "    -rw-r--r--   1 raphael  staff  137  1 sep 20:38 config\n",
    "    -rw-r--r--   1 raphael  staff   73  1 sep 20:38 description\n",
    "    drwxr-xr-x  13 raphael  staff  416  1 sep 20:38 hooks\n",
    "    drwxr-xr-x   3 raphael  staff   96  1 sep 20:38 info\n",
    "    drwxr-xr-x   4 raphael  staff  128  1 sep 20:38 objects\n",
    "    drwxr-xr-x   4 raphael  staff  128  1 sep 20:38 refs"
   ]
  },
  {
   "cell_type": "markdown",
   "metadata": {},
   "source": [
    "Ce sont les fichiers de configuration, de description, et de gestion des données. Affichons un de ces fichiers avec `cat .git/config`. \n",
    "\n",
    "    cat .git/config \n",
    "    \n",
    "qui affiche\n",
    "\n",
    "    [core]\n",
    "        repositoryformatversion = 0\n",
    "        filemode = true\n",
    "        bare = false\n",
    "        logallrefupdates = true\n",
    "        ignorecase = true\n",
    "        precomposeunicode = true"
   ]
  },
  {
   "cell_type": "markdown",
   "metadata": {},
   "source": [
    "### Git status\n",
    "\n",
    "Regardons maintenant le status de ce nouveau répertoire git avec la commande \n",
    "\n",
    "    git status\n",
    "\n",
    "qui affiche\n",
    "\n",
    "    Sur la branche master\n",
    "    Aucun commit\n",
    "    rien à valider (créez/copiez des fichiers et utilisez \"git add\" pour les suivre)"
   ]
  },
  {
   "cell_type": "markdown",
   "metadata": {},
   "source": [
    "Nous avons des fichier non-suivi par Git. Ajoutons le avec `git add *` et vérifions de nouveau le status. Le ficher (ce notebook Jupyter) apparait maintenant en vert."
   ]
  },
  {
   "cell_type": "markdown",
   "metadata": {},
   "source": [
    "Créons un nouveau file\n",
    "\n",
    "    date > file.txt\n",
    "\n",
    "Le nouveau status est\n",
    "    \n",
    "    git status\n",
    "\n",
    "    Sur la branche master\n",
    "    Aucun commit\n",
    "    Fichiers non suivis:\n",
    "        (utilisez \"git add <fichier>...\" pour inclure dans ce qui sera validé)\n",
    "\n",
    "\tfile.txt\n",
    "    aucune modification ajoutée à la validation mais des fichiers non suivis \n",
    "    sont présents (utilisez \"git add\" pour les suivre)"
   ]
  },
  {
   "cell_type": "markdown",
   "metadata": {},
   "source": [
    "### Git add\n",
    "\n",
    "Ajoutons maintenant le fichier avec\n",
    "\n",
    "    git add file.txt\n",
    "    \n",
    "Le nouveau status est\n",
    "\n",
    "Sur la branche master\n",
    "\n",
    "    Aucun commit\n",
    "\n",
    "    Modifications qui seront validées :\n",
    "      (utilisez \"git rm --cached <fichier>...\" pour désindexer)\n",
    "\n",
    "        nouveau fichier : file.txt"
   ]
  },
  {
   "cell_type": "markdown",
   "metadata": {},
   "source": [
    "### Git commit\n",
    "\n",
    "Ajoutons le ficher avec `git commit -m 'message'`\n",
    "\n",
    "    git commit -m 'initial commit'\n",
    "\n",
    "qui affiche\n",
    "\n",
    "    [master (commit racine) 8e1398e] Initial commit\n",
    "     1 file changed, 1 insertion(+)\n",
    "     create mode 100644 file.txt\n",
    "     \n",
    "Le nouveau status\n",
    "\n",
    "    git status\n",
    "  \n",
    "affiche\n",
    "\n",
    "    Sur la branche master\n",
    "    rien à valider, la copie de travail est propre"
   ]
  },
  {
   "cell_type": "code",
   "execution_count": 10,
   "metadata": {},
   "outputs": [
    {
     "name": "stdout",
     "output_type": "stream",
     "text": [
      "[master (root-commit) f76942f] initial commit of Jupyter notebook\n",
      " 1 file changed, 533 insertions(+)\n",
      " create mode 100644 gitdemo.ipynb\n"
     ]
    }
   ],
   "source": []
  },
  {
   "cell_type": "markdown",
   "metadata": {},
   "source": [
    "### Ajouter un autre fichier\n",
    "\n",
    "Ajoutons maintenant un nouveau fichier.\n",
    "\n",
    "    cal > cal.txt\n",
    "\n",
    "Vérifions le status\n",
    "\n",
    "    git status\n",
    "    Sur la branche master\n",
    "    Fichiers non suivis:\n",
    "      (utilisez \"git add <fichier>...\" pour inclure dans ce qui sera validé)\n",
    "\n",
    "        cal.txt\n",
    "\n",
    "    aucune modification ajoutée à la validation mais des fichiers non suivis sont présents (utilisez \"git add\" pour les suivre)\n",
    "    \n",
    "Donc nous allons l'ajouter avec\n",
    "\n",
    "    git add cal.txt\n",
    "    \n",
    "Vérifions avec\n",
    "\n",
    "    git status\n",
    "    \n",
    "qui affiche\n",
    "\n",
    "    Sur la branche master\n",
    "    Modifications qui seront validées :\n",
    "      (utilisez \"git reset HEAD <fichier>...\" pour désindexer)\n",
    "\n",
    "        nouveau fichier : cal.txt"
   ]
  },
  {
   "cell_type": "markdown",
   "metadata": {},
   "source": [
    "### Git clone\n",
    "\n",
    "La commande `git clone url` permet de cloner un répo Git depuis un site web.\n",
    "\n",
    "    git clone https://github.com/bugnon/oc-2021\n",
    "    \n",
    "qui affiche\n",
    "\n",
    "    Clonage dans 'oc-2021'...\n",
    "    remote: Enumerating objects: 274, done.\n",
    "    remote: Counting objects: 100% (274/274), done.\n",
    "    remote: Compressing objects: 100% (176/176), done.\n",
    "    remote: Total 274 (delta 85), reused 262 (delta 76), pack-reused 0\n",
    "    Réception d'objets: 100% (274/274), 2.21 MiB | 7.66 MiB/s, fait.\n",
    "    Résolution des deltas: 100% (85/85), fait."
   ]
  },
  {
   "cell_type": "code",
   "execution_count": 1,
   "metadata": {},
   "outputs": [
    {
     "name": "stdout",
     "output_type": "stream",
     "text": [
      "Cloning into 'oc-2017'...\n",
      "remote: Counting objects: 1088, done.\u001b[K\n",
      "remote: Compressing objects: 100% (105/105), done.\u001b[K\n",
      "remote: Total 1088 (delta 76), reused 57 (delta 26), pack-reused 956\u001b[K\n",
      "Receiving objects: 100% (1088/1088), 27.25 MiB | 4.09 MiB/s, done.\n",
      "Resolving deltas: 100% (486/486), done.\n"
     ]
    }
   ],
   "source": [
    "!git clone https://github.com/Bugnon/oc-2017"
   ]
  },
  {
   "cell_type": "markdown",
   "metadata": {},
   "source": [
    "## Déveloper avec Git\n",
    "\n",
    "Comme dit précédemment, Git à l'avantage d'être pratique à utiliser pour les projets nécessitant beaucoup de collaborateur. Pourquoi? C'est simple à comprendre: Il y a un système de **branches**. \n",
    "\n",
    "![Branche schéma](img2/git_merge_often.png)  \n",
    "_Source de l'image: [kentnguyen.com](http://kentnguyen.com/development/visualized-git-practices-for-team/)_\n",
    "\n",
    "Si je veux ajouter une nouvelle fonctionnalité (ou corriger un beug), je crée une nouvelle **branche** (par exemple: my_branch) afin de ne pas modifier le projet \"final\" situé sur la branche principale (**master**). \n",
    "\n",
    "Après, dès que ces fonctionnalités sont fonctionnelles, on peut fusionner (**merge**) la nouvelle branche sur la principale. \n",
    "\n",
    "Par exemple sur le code de dévellopement de Git lui même, il y a 5 branches (voici un aperçu graphique sur GitHub):\n",
    "\n",
    "![git_branches](img2/git_git.png)\n",
    "\n",
    "L'OpenSource est mis en avant avec Git (et GitHub). Même si on est pas administrateur d'un projet, mais qu'on a quand même envie de contribuer en enlevant des erreurs ou en ajoutant des fonctionnalité, on a déjà accès au code. De plus, on peut faire un **Pull request**. C'est un peu comme une branche mais n'importe qui peut en proposer. En faisant le pull request, on donne accès au \"supplément de code\" et le(s) administrateur(s) du projet on le choix d'intégrer ou non ce nouveau code à la branche master.\n",
    "_Sur la capture décran ci-dessus, on voit que pour \"améliorer\" Git, il y a 134 Pull requests. (certaines ont été acceptées, d'autres non)_"
   ]
  },
  {
   "cell_type": "markdown",
   "metadata": {},
   "source": [
    "## Créer une nouvelle branche\n",
    "\n",
    "Imaginons qu'en plus du calendrier du mois courant, on veut aujouter tout le calendrier de l'année 2005, année de création de git. Mais on aimerait pas modifier tout de suite la branche master.\n",
    "\n",
    "    git branch cal_2005\n",
    "    \n",
    "Ensuite nous devons la chercher\n",
    "\n",
    "    git checkout cal_2005\n",
    "    \n",
    "qui affiche\n",
    "\n",
    "    Basculement sur la branche 'cal_2005'\n",
    "    \n",
    "Ajoutons maintenant le nouveau calendrier\n",
    "\n",
    "    cal 2005 > cal_2005.txt\n",
    "\n",
    "Vérifions sa présence\n",
    "\n",
    "    ls\n",
    "    cal.txt\t\tcal_2005.txt\tfile.txt"
   ]
  },
  {
   "cell_type": "markdown",
   "metadata": {},
   "source": [
    "## Afficher les branches\n",
    "\n",
    "Pour connaître **toutes les branches** du projet, on peut utiliser `git branch -a`\n",
    "\n",
    "    git branch -a\n",
    "    \n",
    "qui affiche\n",
    "\n",
    "    * cal_2005\n",
    "      master"
   ]
  },
  {
   "cell_type": "markdown",
   "metadata": {},
   "source": [
    "Ensuite on ajoute le calendrier dans un document texte et ajoute (**add**) et **commit**.\n",
    "\n",
    "    add cal_2005.txt \n",
    "    \n",
    "et ensuite\n",
    "\n",
    "    commit -m 'add calendar 2005'\n",
    "    \n",
    "qui affiche\n",
    "\n",
    "    [cal_2005 ae14e49] add calendar 2005\n",
    "     1 file changed, 36 insertions(+)\n",
    "     create mode 100644 cal_calendar.txt"
   ]
  },
  {
   "cell_type": "markdown",
   "metadata": {},
   "source": [
    "Vérifions encore\n",
    "\n",
    "    ls\n",
    "    cal.txt\t\tcal_2005.txt\tfile.txt\n",
    "    \n",
    "Maintenant que notre \"fonctionnalité\" fonctionne,  nous pouvons l'ajouter sur **master**.\n",
    "\n",
    "       git checkout master\n",
    "       Basculement sur la branche 'master'\n",
    "\n",
    "Vérifions de nouvau:\n",
    "\n",
    "    ls\n",
    "    cal.txt\t\tfile.txt\n",
    "\n",
    "Et nous pouvons maintenant faire la fusion (merge)\n",
    "\n",
    "    git merge cal_mars  \n",
    "    \n",
    "qui affiche\n",
    "\n",
    "    Mise à jour 8ff76af..ae14e49\n",
    "    Fast-forward\n",
    "     cal_mars.txt | 36 ++++++++++++++++++++++++++++++++++++\n",
    "     1 file changed, 36 insertions(+)\n",
    "     create mode 100644 cal_mars.txt\n"
   ]
  },
  {
   "cell_type": "markdown",
   "metadata": {},
   "source": [
    "## Supprimer une branche\n",
    "\n",
    "Pour aller plus loin, on pourrait **supprimer la branche**. Pour cela, il faudrait utiliser \n",
    "\n",
    "    git branch -d cal_mars  \n",
    "    Branche cal_mars supprimée (précédemment ae14e49).\n",
    "\n",
    "Affichons les deux calendrier"
   ]
  },
  {
   "cell_type": "raw",
   "metadata": {},
   "source": [
    "cat cal*\n",
    "   Septembre 2021     \n",
    "Di Lu Ma Me Je Ve Sa  \n",
    "          1  2  3  4  \n",
    " 5  6  7  8  9 10 11  \n",
    "12 13 14 15 16 17 18  \n",
    "19 20 21 22 23 24 25  \n",
    "26 27 28 29 30        \n",
    "                      \n",
    "                            2005\n",
    "      Janvier               Février                 Mars          \n",
    "Di Lu Ma Me Je Ve Sa  Di Lu Ma Me Je Ve Sa  Di Lu Ma Me Je Ve Sa  \n",
    "                   1         1  2  3  4  5         1  2  3  4  5  \n",
    " 2  3  4  5  6  7  8   6  7  8  9 10 11 12   6  7  8  9 10 11 12  \n",
    " 9 10 11 12 13 14 15  13 14 15 16 17 18 19  13 14 15 16 17 18 19  \n",
    "16 17 18 19 20 21 22  20 21 22 23 24 25 26  20 21 22 23 24 25 26  \n",
    "23 24 25 26 27 28 29  27 28                 27 28 29 30 31        \n",
    "30 31                                                             \n",
    "\n",
    "       Avril                  Mai                   Juin          \n",
    "Di Lu Ma Me Je Ve Sa  Di Lu Ma Me Je Ve Sa  Di Lu Ma Me Je Ve Sa  \n",
    "                1  2   1  2  3  4  5  6  7            1  2  3  4  \n",
    " 3  4  5  6  7  8  9   8  9 10 11 12 13 14   5  6  7  8  9 10 11  \n",
    "10 11 12 13 14 15 16  15 16 17 18 19 20 21  12 13 14 15 16 17 18  \n",
    "17 18 19 20 21 22 23  22 23 24 25 26 27 28  19 20 21 22 23 24 25  \n",
    "24 25 26 27 28 29 30  29 30 31              26 27 28 29 30        \n",
    "                                                                  \n",
    "\n",
    "      Juillet                 Août               Septembre        \n",
    "Di Lu Ma Me Je Ve Sa  Di Lu Ma Me Je Ve Sa  Di Lu Ma Me Je Ve Sa  \n",
    "                1  2      1  2  3  4  5  6               1  2  3  \n",
    " 3  4  5  6  7  8  9   7  8  9 10 11 12 13   4  5  6  7  8  9 10  \n",
    "10 11 12 13 14 15 16  14 15 16 17 18 19 20  11 12 13 14 15 16 17  \n",
    "17 18 19 20 21 22 23  21 22 23 24 25 26 27  18 19 20 21 22 23 24  \n",
    "24 25 26 27 28 29 30  28 29 30 31           25 26 27 28 29 30     \n",
    "31                                                                \n",
    "\n",
    "      Octobre               Novembre              Décembre        \n",
    "Di Lu Ma Me Je Ve Sa  Di Lu Ma Me Je Ve Sa  Di Lu Ma Me Je Ve Sa  \n",
    "                   1         1  2  3  4  5               1  2  3  \n",
    " 2  3  4  5  6  7  8   6  7  8  9 10 11 12   4  5  6  7  8  9 10  \n",
    " 9 10 11 12 13 14 15  13 14 15 16 17 18 19  11 12 13 14 15 16 17  \n",
    "16 17 18 19 20 21 22  20 21 22 23 24 25 26  18 19 20 21 22 23 24  \n",
    "23 24 25 26 27 28 29  27 28 29 30           25 26 27 28 29 30 31  \n",
    "30 31"
   ]
  },
  {
   "cell_type": "markdown",
   "metadata": {},
   "source": [
    "## Supprimer un document\n",
    "\n",
    "Pour **supprimer un document** de Git, il faut utiliser `git rm nom_du_fichier`\n",
    "\n",
    "    git rm cal.txt \n",
    "    rm 'cal.txt'\n",
    "\n",
    "Pour voir les dernières modifications entre le dernier commit et l'espace actuel de travail:\n",
    "\n",
    "    git status\n",
    "    \n",
    "affiche\n",
    "\n",
    "    Sur la branche master\n",
    "    Modifications qui seront validées :\n",
    "      (utilisez \"git reset HEAD <fichier>...\" pour désindexer)\n",
    "\n",
    "        supprimé :        cal.txt"
   ]
  },
  {
   "cell_type": "code",
   "execution_count": 7,
   "metadata": {},
   "outputs": [
    {
     "name": "stdout",
     "output_type": "stream",
     "text": [
      "\u001b[1mdiff --git a/bla/output/06_3_Blue.jpg b/bla/output/06_3_Blue.jpg\u001b[m\n",
      "\u001b[1mindex 30d70a9..d9e0c70 100644\u001b[m\n",
      "Binary files a/bla/output/06_3_Blue.jpg and b/bla/output/06_3_Blue.jpg differ\n",
      "\u001b[1mdiff --git a/bla/output/06_3_Green.jpg b/bla/output/06_3_Green.jpg\u001b[m\n",
      "\u001b[1mindex 0e52ba7..0a9d23a 100644\u001b[m\n",
      "Binary files a/bla/output/06_3_Green.jpg and b/bla/output/06_3_Green.jpg differ\n",
      "\u001b[1mdiff --git a/bla/output/06_3_Red.jpg b/bla/output/06_3_Red.jpg\u001b[m\n",
      "\u001b[1mindex 0106d9c..d417b80 100644\u001b[m\n",
      "Binary files a/bla/output/06_3_Red.jpg and b/bla/output/06_3_Red.jpg differ\n",
      "\u001b[1mdiff --git a/exam/Blanc_Git_GitHub.ipynb b/exam/Blanc_Git_GitHub.ipynb\u001b[m\n",
      "\u001b[1mindex 3c8480a..62999b5 100644\u001b[m\n",
      "\u001b[1m--- a/exam/Blanc_Git_GitHub.ipynb\u001b[m\n",
      "\u001b[1m+++ b/exam/Blanc_Git_GitHub.ipynb\u001b[m\n",
      "\u001b[36m@@ -21,6 +21,7 @@\u001b[m\n",
      "     \"Sources et références:\\n\",\u001b[m\n",
      "     \"* https://fr.wikipedia.org/wiki/Git\\n\",\u001b[m\n",
      "     \"* https://cours-web.ch/git/\\n\",\u001b[m\n",
      "\u001b[32m+\u001b[m\u001b[32m    \"* https://gist.github.com/aquelito/8596717\\n\",\u001b[m\n",
      "     \"\\n\",\u001b[m\n",
      "     \"Git est un **logiciel de gestion de versions décentralisé**. C'est un logiciel **libre** créé en **2005** par Linus Torvalds, auteur du noyau Linux. En 2016, il s’agit du logiciel de gestion de versions le plus populaire qui est utilisé par plus de douze millions de personnes.\\n\",\u001b[m\n",
      "     \"C'est un outil en **ligne de commande**. Pour du meilleur confort d'utilisation, il existe plusieurs logiciel et services en ligne offrant une interface graphique.\\n\",\u001b[m\n",
      "\u001b[36m@@ -36,7 +37,7 @@\u001b[m\n",
      "     \"- Permet d’avoir un historique précis de tous les changements et modifications d’un projet. Cela permet de clarifier les questions récurrentes: _“Où est la dernière version du fichier X?”_ et _“Qu’est-ce qui a été changé entre les révisions 41 et 42”?_.\\n\",\u001b[m\n",
      "     \"\\n\",\u001b[m\n",
      "     \"\\n\",\u001b[m\n",
      "\u001b[31m-    \"Annecdote selon magazine PC World: _« quand on lui a demandé pourquoi il avait appelé son logiciel “git”, qui est à peu près l'équivalent de “connard” en argot britannique, Linus Torvalds a répondu “je ne suis qu'un sale égocentrique, donc j'appelle tous mes projets d'après ma propre personne. D'abord Linux, puis Git.”»_\"\u001b[m\n",
      "\u001b[32m+\u001b[m\u001b[32m    \"Annecdote selon magazine PC World: « quand on lui a demandé pourquoi il avait appelé son logiciel “git”, qui est à peu près l'équivalent de “connard” en argot britannique, Linus Torvalds a répondu “je ne suis qu'un sale égocentrique, donc j'appelle tous mes projets d'après ma propre personne. D'abord Linux, puis Git.”»\"\u001b[m\n",
      "    ]\u001b[m\n",
      "   },\u001b[m\n",
      "   {\u001b[m\n",
      "\u001b[36m@@ -59,7 +60,42 @@\u001b[m\n",
      "     \"- `git push` \\n\",\u001b[m\n",
      "     \"- `git pull`\\n\",\u001b[m\n",
      "     \"- `git branch`\\n\",\u001b[m\n",
      "\u001b[31m-    \"- `git checkout`\"\u001b[m\n",
      "\u001b[32m+\u001b[m\u001b[32m    \"- `git checkout`\\n\",\u001b[m\n",
      "\u001b[32m+\u001b[m\u001b[32m    \"\\n\",\u001b[m\n",
      "\u001b[32m+\u001b[m\u001b[32m    \"Je vais expliquer leur fonctionnement de \\\"base\\\". La meilleur documentation reste l'aide en ligne de commande:\\n\",\u001b[m\n",
      "\u001b[32m+\u001b[m\u001b[32m    \"\\n\",\u001b[m\n",
      "\u001b[32m+\u001b[m\u001b[32m    \"`git help config` <br/>\\n\",\u001b[m\n",
      "\u001b[32m+\u001b[m\u001b[32m    \"`git help push` <br/>\\n\",\u001b[m\n",
      "\u001b[32m+\u001b[m\u001b[32m    \"`git help pull` <br/>\\n\",\u001b[m\n",
      "\u001b[32m+\u001b[m\u001b[32m    \"`git help branch`\\n\"\u001b[m\n",
      "\u001b[32m+\u001b[m\u001b[32m   ]\u001b[m\n",
      "\u001b[32m+\u001b[m\u001b[32m  },\u001b[m\n",
      "\u001b[32m+\u001b[m\u001b[32m  {\u001b[m\n",
      "\u001b[32m+\u001b[m\u001b[32m   \"cell_type\": \"markdown\",\u001b[m\n",
      "\u001b[32m+\u001b[m\u001b[32m   \"metadata\": {},\u001b[m\n",
      "\u001b[32m+\u001b[m\u001b[32m   \"source\": [\u001b[m\n",
      "\u001b[32m+\u001b[m\u001b[32m    \"### Configuration lors de la première utilisation\\n\",\u001b[m\n",
      "\u001b[32m+\u001b[m\u001b[32m    \"Pour savoir qui modifie les fichiers et fait des opérations sur Git, il faut préciser son pseudo et son email.\\n\",\u001b[m\n",
      "\u001b[32m+\u001b[m\u001b[32m    \"* Identity Name\\n\",\u001b[m\n",
      "\u001b[32m+\u001b[m\u001b[32m    \"\\n\",\u001b[m\n",
      "\u001b[32m+\u001b[m\u001b[32m    \"`git config --global user.name \\\"yourname\\\"` Il faut mettre son pseudo entre les guillemets.\\n\",\u001b[m\n",
      "\u001b[32m+\u001b[m\u001b[32m    \"\\n\",\u001b[m\n",
      "\u001b[32m+\u001b[m\u001b[32m    \"* Identity Email\\n\",\u001b[m\n",
      "\u001b[32m+\u001b[m\u001b[32m    \"\\n\",\u001b[m\n",
      "\u001b[32m+\u001b[m\u001b[32m    \"`git config --global user.email \\\"your@email.com\\\"` Il faut mettre son email entre les guillemets.\\n\",\u001b[m\n",
      "\u001b[32m+\u001b[m\u001b[32m    \"\\n\",\u001b[m\n",
      "\u001b[32m+\u001b[m\u001b[32m    \"On peut executer la fonction suivante pour connaître ses réglages personnels:\"\u001b[m\n",
      "\u001b[32m+\u001b[m\u001b[32m   ]\u001b[m\n",
      "\u001b[32m+\u001b[m\u001b[32m  },\u001b[m\n",
      "\u001b[32m+\u001b[m\u001b[32m  {\u001b[m\n",
      "\u001b[32m+\u001b[m\u001b[32m   \"cell_type\": \"code\",\u001b[m\n",
      "\u001b[32m+\u001b[m\u001b[32m   \"execution_count\": 5,\u001b[m\n",
      "\u001b[32m+\u001b[m\u001b[32m   \"metadata\": {},\u001b[m\n",
      "\u001b[32m+\u001b[m\u001b[32m   \"outputs\": [],\u001b[m\n",
      "\u001b[32m+\u001b[m\u001b[32m   \"source\": [\u001b[m\n",
      "\u001b[32m+\u001b[m\u001b[32m    \"#!git config --list\\n\",\u001b[m\n",
      "\u001b[32m+\u001b[m\u001b[32m    \"\\n\",\u001b[m\n",
      "\u001b[32m+\u001b[m\u001b[32m    \"# (Je ne l'execute pas pour des raisons de confidentialité.)\"\u001b[m\n",
      "    ]\u001b[m\n",
      "   },\u001b[m\n",
      "   {\u001b[m\n",
      "\u001b[36m@@ -627,6 +663,8 @@\u001b[m\n",
      "    \"cell_type\": \"markdown\",\u001b[m\n",
      "    \"metadata\": {},\u001b[m\n",
      "    \"source\": [\u001b[m\n",
      "\u001b[32m+\u001b[m\u001b[32m    \"Pour connaître toutes les branches du projet, on peut utiliser `git branch -a`\\n\",\u001b[m\n",
      "\u001b[32m+\u001b[m\u001b[32m    \"\\n\",\u001b[m\n",
      "     \"Maintenant il faut se déplacer de master à cal_2018.\"\u001b[m\n",
      "    ]\u001b[m\n",
      "   },\u001b[m\n",
      "\u001b[36m@@ -745,6 +783,15 @@\u001b[m\n",
      "     \"!git merge cal_2018\"\u001b[m\n",
      "    ]\u001b[m\n",
      "   },\u001b[m\n",
      "\u001b[32m+\u001b[m\u001b[32m  {\u001b[m\n",
      "\u001b[32m+\u001b[m\u001b[32m   \"cell_type\": \"markdown\",\u001b[m\n",
      "\u001b[32m+\u001b[m\u001b[32m   \"metadata\": {},\u001b[m\n",
      "\u001b[32m+\u001b[m\u001b[32m   \"source\": [\u001b[m\n",
      "\u001b[32m+\u001b[m\u001b[32m    \"Pour aller plus loin, on pourrait supprimer la branche. Pour cela, il faudrait utiliser `git branch -d cal_2018`, et pour supprimer un document de Git, il faut utiliser `git rm nom_du_fichier`\\n\",\u001b[m\n",
      "\u001b[32m+\u001b[m\u001b[32m    \"\\n\",\u001b[m\n",
      "\u001b[32m+\u001b[m\u001b[32m    \"Une dernière \"\u001b[m\n",
      "\u001b[32m+\u001b[m\u001b[32m   ]\u001b[m\n",
      "\u001b[32m+\u001b[m\u001b[32m  },\u001b[m\n",
      "   {\u001b[m\n",
      "    \"cell_type\": \"markdown\",\u001b[m\n",
      "    \"metadata\": {},\u001b[m\n"
     ]
    }
   ],
   "source": [
    "!git diff HEAD"
   ]
  },
  {
   "cell_type": "markdown",
   "metadata": {},
   "source": [
    "## Collaboration avec GitHub\n",
    "<img src='https://raw.githubusercontent.com/Bugnon/oc-2017/master/bla/exam/Github_logo.png' style=\"float:right;width:150px;\">\n",
    "\n",
    "GitHub est un service web offrant l’hébergement de projets utilisant Git, lancé en 2008, GitHub offre de nombreuses fonctionnalités facilitant la communication et la collaboration. Cette plateforme est très pratique car c'est une interface graphique, simplifiant grandement l'accèsibilité. Elle est aussi comme un réseau social:\n",
    "- On peut suivre des personnes\n",
    "- On peut suivre l'évolution d'un projet\n",
    "\n",
    "De plus, le service est gratuit pour les privés. Le code de tout les projets y est visible ce qui, encore une fois, permet le côté OpenSource. On peut aussi voir les pull requests et des **issues**. Les issues sont une sorte de chat ou on peut discuter des problèmes et de leurs soulutions d'un projet.\n",
    "\n",
    "Voici l'illustration de l'interface graphique avec le dossier de classe.\n",
    "\n",
    "![interface graphique](img2/git_oc17.png) "
   ]
  },
  {
   "cell_type": "markdown",
   "metadata": {},
   "source": [
    "## Sélection de projet open sourche\n",
    "\n",
    "La plupart des logiciels et modules Python qu'on a utilisé durant l'année sont en déveleppement sur GitHub. Ils sont donc OpenSource.\n",
    "\n",
    "Je vous recommande d'aller jeter un coup d'œil aux liens suivants:\n",
    "\n",
    "- https://github.com/jupyter/notebook\n",
    "- https://github.com/opencv/opencv\n",
    "- https://github.com/numpy/numpy\n",
    "- https://github.com/python/cpython\n",
    "- https://github.com/git/git"
   ]
  },
  {
   "cell_type": "code",
   "execution_count": null,
   "metadata": {},
   "outputs": [],
   "source": []
  }
 ],
 "metadata": {
  "kernelspec": {
   "display_name": "Python 3",
   "language": "python",
   "name": "python3"
  },
  "language_info": {
   "codemirror_mode": {
    "name": "ipython",
    "version": 3
   },
   "file_extension": ".py",
   "mimetype": "text/x-python",
   "name": "python",
   "nbconvert_exporter": "python",
   "pygments_lexer": "ipython3",
   "version": "3.7.9"
  }
 },
 "nbformat": 4,
 "nbformat_minor": 4
}
