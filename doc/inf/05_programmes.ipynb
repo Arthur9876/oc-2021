{
 "cells": [
  {
   "cell_type": "markdown",
   "metadata": {},
   "source": [
    "# Programmes et languages"
   ]
  },
  {
   "cell_type": "markdown",
   "metadata": {},
   "source": [
    "Objectifs de ce chapitre:\n",
    "* Connaître la différence entre programme source et programme exécutable\n",
    "* Savoir à quoi sert un compilateur\n",
    "* Savoir situer Python parmi les langages de programmation"
   ]
  },
  {
   "cell_type": "markdown",
   "metadata": {},
   "source": [
    "## Le coeur de l'ordinateur\n",
    "\n",
    "Le coeur ou plutôt le cerveau d'un ordinateur est son **unité central** ou CPU (central processing unit). Cette unité\n",
    "* cherche des valeurs dans la mémoire (**load**)\n",
    "* effectue des opérations simple sur des valeurs (addition, soustraction)\n",
    "* effectue des opération de test\n",
    "* mémorise des résultat dans la mémoire"
   ]
  },
  {
   "cell_type": "markdown",
   "metadata": {},
   "source": [
    "### Langage machine\n",
    "Dans l'unité centrale, l'information est représenté sous forme binaire. Un programme écrit en **language machine**, donc en binaire, peut directement être exécuté par l'unité central.\n",
    "\n",
    "![img](img/05-machine.svg)"
   ]
  },
  {
   "cell_type": "markdown",
   "metadata": {},
   "source": [
    "### Langage d'assemblage\n",
    "Pour plus de facilité les programmes ont ensuite utilisé des noms pour les instructions et les registres. Par exemple une ligne d'instruction pouvait ressembler au texte suivant:\n",
    "\n",
    "```\n",
    "LOAD RI #4577\n",
    "```\n",
    "`LOAD` est le nom donné à l'instruction qui transfère le contenu d'une case mémoire dans un registre. Le nom `R1` designe un registre et `#4577` l'adresse de la case mémoire.\n",
    "\n",
    "Pour créer le programme machine, le programme source en langage d'assemblage est pris comme entrée par un autre programme appelé **assembleur** pour créer une version en langage machine.\n",
    "\n",
    "![img](img/05-assembler.svg) \n",
    "\n",
    "La relation entre langage d'assemblage et langage machine est reversible et il existent des programmes **désassembleur** pour recréer un programme en langage d'assemblage, lisible pour l'homme, à partir d'un programme machine.\n",
    "\n",
    "La traduction d'une forme à l'autre est une opération simple et mécaniste: chaque nom d'instruction ou de registre est remplacé par la séquence binaire correspondante. Par example `LOAD` sera toujours remplacé par `11011` et les labels sont remplacés par l'adresse mémoire qu'ils designent."
   ]
  },
  {
   "cell_type": "markdown",
   "metadata": {},
   "source": [
    "## Languages de programmation\n",
    "L'écriture d'un programme en langage d'assemblage est une tâche complexe. Pourn faciliter la tâche des programmeurs des langages de programmation de plus en plus puissant et abstrait on été créées. Les trois premiers langages sont **Fortran** (1954), **Lisp** (1958) et **Cobol** (1959). Ils existent toujours et sont encore utilisés quotidiennement.\n",
    "\n",
    "La différence entre les langages de programmation et l'assembleur utilisé auparavant réside dans le fait que ces langages sont indépendant du langage machine.\n",
    "\n",
    "Il existent deux techniques pour traduire un programme écrit en langage de programmation en langage machine: la **compilation** et l'**interprétation**."
   ]
  },
  {
   "cell_type": "markdown",
   "metadata": {},
   "source": [
    "### Compilation\n",
    "La **compilation** consiste à traduire en une fois l'ensemble du programme et à mettre le résultat dans un ou plusieurs fichchiers binaires contenant le programme en langage machine. Ce fichier dit **exécutable** est ensuite utilisé à chaque fois que l'on souhaite exécuter le programme.\n",
    "\n",
    "![img](img/05-compiler.svg)"
   ]
  },
  {
   "cell_type": "markdown",
   "metadata": {},
   "source": [
    "### Interprétation\n",
    "L'**interprétation** consiste à traduire les instructions à fur et à mesure de leur exécution. Plus exactement, chaque instruction est traduite et la traduction est exécutée dans la foulée.\n",
    "\n",
    "![img](img/05-interpreter.svg)\n",
    "\n",
    "Pour faire une analogie avec les langues humaines, la compilation est analogue à la traduction d'un livre: il faut attendre que le traducteur ait fini de tout traduire pour que le lecteur puisse commencer à lire. Mais le traductuers ne traduit qu'une seule fois le livre pour des milliers de lecteurs.\n",
    "\n",
    "L'interprétation est analgue à la traduction simultané d'un orateur pour un auditoire restreint et éphémère.\n",
    "\n",
    "Les programmes qui opèrent ces traductions sont appelées respectivement **compilateur** et **interprétateur**. Le compilateur ne fait que la traduction alors que l'interpréteur réalise en même temps la traduction et l'exécution du programme."
   ]
  },
  {
   "cell_type": "markdown",
   "metadata": {},
   "source": [
    "### Paradigmes de programmation\n",
    "Les langages se répartissent selon différentes catégories. La famille la plus important par le nombre de langages et le fait qu'elle ait dominé largement jusque dans les années 1990 est celle des **langages impératifs**. Dans cette famille, un programme correspond à une succession d'instructions,  chacune ayant pour effet de modifier un espace mémoire ou de réaliser des entrées/sorties sur les périphériques de l'ordinateur (clavier, écran, disque dur, imprimante, etc.).\n",
    "Cette famille comporte notamment les languages Fortan, Basic, Cobol, C, Pascal et Ada.\n",
    "\n",
    "Les **langages fonctionnels** forment une autre famille au sein de laquelle un programme est une *fonction* au sense mathématique du terme. Cette fonction est définie au moyen d'autres fonctions qui réalisent une partie du travail, comme un sous-programme dans un langage impératif. Cette famille comporte les langages List, Scheme, Ocaml et Scala.\n",
    "\n",
    "La **programmation orienté objet** organise les programmes autour des données : plut^0t que de définir un programme comme une suit de traitements, elle le définit comme une collection de données susceptibles d'évoluer. Les principaux représentants de cette famille sont Smalltalk, C++, Objective C et Ada."
   ]
  },
  {
   "cell_type": "markdown",
   "metadata": {},
   "source": [
    "### Typage\n",
    "Un langage est **typé** si les données sont distingué par type: par exemple les nombres et les caractères sont deux types différentes.\n",
    "\n",
    "Dans un langage fortement typé, la cohérence du programme est vérifiée à la compilation et une erreur de type conduit au rejet du programme."
   ]
  },
  {
   "cell_type": "markdown",
   "metadata": {},
   "source": [
    "### But du programme\n",
    "* Les **applications** sont des programmes qui rendent service directement à l'utilisateur. Les icônes que l'on trouve sur le bureau d'un ordinateur ou sur l'écran d'un smartphone des programmes de ce type.\n",
    "* Le **chargeur d'amorçage** s'execute au moment du démarrage de l'ordinateur.\n",
    "* Le **système d'exploitation** gère le matériel de l'ordinateur, tels que la mémoire, l'accès au disque dur, la communication avec l'imprimante, la gestion des fichiers, etc.\n",
    "* Les **pilotes** gouvernent les différents périphériques tel que l'écran, l'imprimante, le scanner, etc."
   ]
  },
  {
   "cell_type": "markdown",
   "metadata": {},
   "source": [
    "## Le langage Python\n",
    "Le langage a été créé en 1991 par Guido van Rossum comme projet privé. Très vite le langage a trouvé une communauté d'utilisateurs et de développeurs. Le nom est un hommage aux **Monty Python**, un groupe d'humoristes anglais, ayant notamment réalisé une série télévision culte. Les tutoriels de Python font souvent allusions aux sketchs des Monty Python.\n",
    "\n",
    "Python appartient à la famille des **langages impératifs** offrant les variables, la séquence d'instruction, les fonctions et les modules. De plus il offre des constructions de la programmation fonctionnelle (listes, itérateurs, passage de fonctions en paramètres). Le programmeur Python peut donc choisir de programmer dans un style impératif, objet, fonctionnel ou dans un mélange des trois.\n",
    "\n",
    "Python est un **langage interprété**. Il possède une notion de type, mais le typage n'est pas vérifié à la compilation puisqu'il n'y a pas de compilation.\n",
    "\n",
    "Python est normalisé par la Python Software Foundation qui diffuse les nouvelles versions.\n",
    "\n",
    "Une spécificité de Python est l'utilisation de l'**indentation** dans la syntaxe du langage pour indiquer la structure du programme. L'indentation est utilisé pour démarquer des blocs d'instrutions. Chaque indentation supplémentaire correspond à un sous-bloc. D'autres langages (comme le C) utilisent des accolades (`{bloc}`) pour délimiter un bloc."
   ]
  },
  {
   "cell_type": "markdown",
   "metadata": {},
   "source": [
    "### Le mode interactif dans un terminal\n",
    "Vous pouvez lancer Python version 3 dans un terminal avec la commande `python3`, ce qui vous affiche la version actulle de Python que vous avez installée.\n",
    "```\n",
    "$ python3\n",
    "Python 3.7.0 (default, Jun 28 2018, 07:39:16) \n",
    "[Clang 4.0.1 (tags/RELEASE_401/final)] :: Anaconda, Inc. on darwin\n",
    "Type \"help\", \"copyright\", \"credits\" or \"license\" for more information.\n",
    ">>> \n",
    "```\n",
    "Le programme affiche alors une **invite de commande** (prompt en anglais) sous forme de trois chevrons `>>>` ce qui est un signe que le système est en attente d'une instruction. Vous pouvez entrer directement des expressions arithmétiques et les faire évaluer en appuyant la touche **Enter**.\n",
    "\n",
    "```\n",
    ">>> 1+1\n",
    "2\n",
    ">>> 2**8\n",
    "256\n",
    ">>> print('hello')\n",
    "hello\n",
    "```\n",
    "Certaines instructions nécessitent plusieurs lignes de code. Dans ce cas l'interpréteur affiche l'invite de commande `>>>` avant la première ligne et ensuite une **invite de continuation** sous forme de trois points `...` en début de ligne. Pour signifier la fin de l'instruction il faut entrer une ligne vide. Voici un exemple\n",
    "```\n",
    ">>> for i in range(4):\n",
    "...     print(i, i**3)\n",
    "... \n",
    "0 0\n",
    "1 1\n",
    "2 8\n",
    "3 27\n",
    ">>> \n",
    "```"
   ]
  },
  {
   "cell_type": "markdown",
   "metadata": {},
   "source": [
    "### Le mode script\n",
    "Dans le mode script le l'interpréteur va lire et executer les instructions dans un fichier texte. Il est d'usage de donner l'extension `.py` aux fichiers contenant des programmes.\n",
    "\n",
    "Avec un édituer de texte, créez un fichier `hello.py` avec le contenu suivant:\n",
    "```\n",
    "x = 1 + 1\n",
    "print(x ** 8)\n",
    "print('loop')\n",
    "for i in range(1, 4):\n",
    "    print(i, i ** 3)\n",
    "```  \n",
    "L'execution de se programme va afficher dans la console:\n",
    "* la valeur de $x^8$ (256)\n",
    "* la chaine `loop`,\n",
    "* trois fois dans une boucle la variable $i$ et son cube $i^3$."
   ]
  },
  {
   "cell_type": "code",
   "execution_count": 1,
   "metadata": {},
   "outputs": [
    {
     "name": "stdout",
     "output_type": "stream",
     "text": [
      "256\n",
      "loop:\n",
      "1 1\n",
      "2 8\n",
      "3 27\n"
     ]
    }
   ],
   "source": [
    "!python3 hello.py"
   ]
  },
  {
   "cell_type": "markdown",
   "metadata": {},
   "source": [
    "### Environnement de développement intégré (IDE)\n",
    "Un **environnement de développement intégré** (IDE) combine un éditeur, la console, l'interpréteur et différents outils de visualisation.\n",
    "**Thonny** est un IDE spécifiquement conçu pour l'enseignement de Python. Vous pouvez le télécharger depuis le site: https://thonny.org\n",
    "\n",
    "Voici une capteur d'écran de Thonny ou nous avons:\n",
    "- tout en haut des boutons raccourci (noveau, ouvir, sauvegarder, etc.)\n",
    "- en haut à gauche le script (hello.py')\n",
    "- en bas à gauche la console (Shell) avec le résultat du script\n",
    "- à droite un panneau (Variables) qui affiche les valeurs actuelles des variables utilisées\n",
    "\n",
    "![img](img/thonny.png)"
   ]
  }
 ],
 "metadata": {
  "kernelspec": {
   "display_name": "Python 3",
   "language": "python",
   "name": "python3"
  },
  "language_info": {
   "codemirror_mode": {
    "name": "ipython",
    "version": 3
   },
   "file_extension": ".py",
   "mimetype": "text/x-python",
   "name": "python",
   "nbconvert_exporter": "python",
   "pygments_lexer": "ipython3",
   "version": "3.7.0"
  }
 },
 "nbformat": 4,
 "nbformat_minor": 2
}
