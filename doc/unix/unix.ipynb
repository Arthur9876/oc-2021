{
    "cells": [
        {
            "cell_type": "markdown",
            "source": [
                "# Unix commands"
            ],
            "metadata": {}
        },
        {
            "cell_type": "markdown",
            "source": [
                "Ceci est un notebook Jupyter.\n",
                "![](terminal.png)"
            ],
            "metadata": {}
        },
        {
            "cell_type": "markdown",
            "source": [
                "## UNIX batch"
            ],
            "metadata": {}
        },
        {
            "cell_type": "code",
            "execution_count": 22,
            "source": [
                "print('hello')"
            ],
            "outputs": [
                {
                    "output_type": "stream",
                    "name": "stdout",
                    "text": [
                        "hello\n"
                    ]
                }
            ],
            "metadata": {}
        },
        {
            "cell_type": "code",
            "execution_count": null,
            "source": [
                "8 ** 64"
            ],
            "outputs": [],
            "metadata": {}
        },
        {
            "cell_type": "markdown",
            "source": [
                "# Math\n",
                "\n",
                "$$ E = m c^2 $$"
            ],
            "metadata": {}
        },
        {
            "cell_type": "code",
            "execution_count": 26,
            "source": [
                "# vitesse de la lumière (m/s)\n",
                "c = 300000000\n",
                "print('vitesse lumière =', c/1000, 'km/s')\n",
                "\n",
                "# masse (kg)\n",
                "m = 0.001\n",
                "print('masse =', m * 1000, 'g')\n",
                "\n",
                "# Energie\n",
                "E = m * c ** 2\n",
                "print(E)"
            ],
            "outputs": [
                {
                    "output_type": "stream",
                    "name": "stdout",
                    "text": [
                        "vitesse lumière = 300000.0 km/s\n",
                        "masse = 1.0 g\n",
                        "90000000000000.0\n"
                    ]
                }
            ],
            "metadata": {}
        },
        {
            "cell_type": "code",
            "execution_count": null,
            "source": [],
            "outputs": [],
            "metadata": {}
        },
        {
            "cell_type": "markdown",
            "source": [
                "## html\n",
                "<h1>Title </h1>\n",
                "<a>Gymnase</a>"
            ],
            "metadata": {}
        },
        {
            "cell_type": "code",
            "execution_count": null,
            "source": [
                "for c in 'Python':\n",
                "    print(c)\n"
            ],
            "outputs": [],
            "metadata": {}
        },
        {
            "cell_type": "markdown",
            "source": [
                "## Einstein"
            ],
            "metadata": {}
        },
        {
            "cell_type": "markdown",
            "source": [
                "# Title\n",
                "\n",
                "- item"
            ],
            "metadata": {}
        },
        {
            "cell_type": "code",
            "execution_count": 29,
            "source": [
                "a = 123 * 2\n",
                "b = 'hello'\n",
                "print(a)\n",
                "print(b)\n",
                "2\n",
                "b = 'hello'"
            ],
            "outputs": [
                {
                    "output_type": "stream",
                    "name": "stdout",
                    "text": [
                        "246\n",
                        "hello\n"
                    ]
                }
            ],
            "metadata": {}
        },
        {
            "cell_type": "code",
            "execution_count": null,
            "source": [],
            "outputs": [],
            "metadata": {}
        },
        {
            "cell_type": "code",
            "execution_count": 27,
            "source": [
                "A = ['hello', 1, True]"
            ],
            "outputs": [],
            "metadata": {}
        },
        {
            "cell_type": "code",
            "execution_count": null,
            "source": [],
            "outputs": [],
            "metadata": {}
        },
        {
            "cell_type": "code",
            "execution_count": null,
            "source": [],
            "outputs": [],
            "metadata": {}
        },
        {
            "cell_type": "code",
            "execution_count": null,
            "source": [
                "b = b * 2\n",
                "print(b)"
            ],
            "outputs": [],
            "metadata": {}
        },
        {
            "cell_type": "code",
            "execution_count": null,
            "source": [],
            "outputs": [],
            "metadata": {}
        },
        {
            "cell_type": "code",
            "execution_count": null,
            "source": [],
            "outputs": [],
            "metadata": {}
        }
    ],
    "metadata": {
        "orig_nbformat": 4,
        "language_info": {
            "name": "python",
            "version": "3.8.2",
            "mimetype": "text/x-python",
            "codemirror_mode": {
                "name": "ipython",
                "version": 3
            },
            "pygments_lexer": "ipython3",
            "nbconvert_exporter": "python",
            "file_extension": ".py"
        },
        "kernelspec": {
            "name": "python3",
            "display_name": "Python 3.8.2 64-bit"
        },
        "interpreter": {
            "hash": "0adcc2737ebf6a4a119f135174df96668767fca1ef1112612db5ecadf2b6d608"
        }
    },
    "nbformat": 4,
    "nbformat_minor": 2
}