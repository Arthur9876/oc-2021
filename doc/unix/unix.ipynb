{
    "cells": [
        {
            "cell_type": "markdown",
            "source": [
                "# Unix commands\n",
                "\n",
                "Les commandes UNIX permettent de contrôler et interagir avec un ordinateur direcement à partir d'un terminal."
            ],
            "metadata": {}
        },
        {
            "cell_type": "markdown",
            "source": [
                "## Le prompt (invite)\n",
                "\n",
                "Dans la console UNIX,  un symbole (prompt) est affiché pour inviter l'utilisateur à écrire sa commande. Traditionellement UNIX utilise les invites (prompt) suivantes:\n",
                "\n",
                "- `$` pour l'utilisateur standard\n",
                "- `#` pour le super-utilisateur (super user)\n",
                "- `%` pour une console du type `csh`\n",
                "\n",
                "La console Python utilise 3 chevrons : `>>>`."
            ],
            "metadata": {}
        },
        {
            "source": [
                "## Copier un fichier\n",
                "\n",
                "La commande `cp` (copy) permet de créer une copie.\n",
                "\n",
                "    % cp file.txt file_copy.txt\n",
                "    \n",
                "Vérifions\n",
                "\n",
                "    % ls -l \n",
                "    -rw-r--r--  1 raphael  staff     63 27 aoû 11:59 file.txt\n",
                "    -rw-r--r--  1 raphael  staff     63 27 aoû 12:49 file_copy.txt\n",
                "\n",
                "Si le fichier de destination existe déjà, il sera écrasé. Pour éviter un problème utilisez l'option `-i`.\n",
                "\n",
                "    % cp -i file.txt file_copy.txt\n",
                "    overwrite file_copy.txt? (y/n [n]) n\n",
                "    not overwritten\n"
            ],
            "cell_type": "markdown",
            "metadata": {}
        },
        {
            "cell_type": "markdown",
            "source": [
                "## Calendrier\n",
                "\n",
                "La commande `cal` produit un calendrier mensuel.\n",
                "\n",
                "    % cal\n",
                "        Août 2021        \n",
                "    Di Lu Ma Me Je Ve Sa  \n",
                "    1  2  3  4  5  6  7  \n",
                "    8  9 10 11 12 13 14  \n",
                "    15 16 17 18 19 20 21  \n",
                "    22 23 24 25 26 27 28  \n",
                "    29 30 31 \n",
                "\n",
                "Avec un argument vous pouvez choisir le mois et l'année.\n",
                "\n",
                "    % cal 2 2021\n",
                "        Février 2021      \n",
                "    Di Lu Ma Me Je Ve Sa  \n",
                "        1  2  3  4  5  6  \n",
                "    7  8  9 10 11 12 13  \n",
                "    14 15 16 17 18 19 20  \n",
                "    21 22 23 24 25 26 27  \n",
                "    28  \n",
                "\n",
                "\n",
                "\n",
                "\n"
            ],
            "metadata": {}
        },
        {
            "source": [
                "## Ecrire dans un fichier\n",
                "\n",
                "La commande `>` permet de rediriger la sortie d'un programme vers un fichier.\n",
                "\n",
                "    % cal > myfile.txt\n",
                "\n",
                "Avec `cat` nous pouvons afficher le contenu du nouveau fichier.\n",
                "\n",
                "    % cat myfile.txt \n",
                "        Août 2021        \n",
                "    Di Lu Ma Me Je Ve Sa  \n",
                "    1  2  3  4  5  6  7  \n",
                "    8  9 10 11 12 13 14  \n",
                "    15 16 17 18 19 20 21  \n",
                "    22 23 24 25 26 27 28  \n",
                "    29 30 31              \n",
                "\n",
                "\n",
                "Essayons d'écrire autre chose dans ce fichier.\n",
                "\n",
                "    % date > myfile.txt\n",
                "\n",
                "Dans ce cas le texte précéent (calendrier) est effacé et remplacé par une ligne de date et heure.\n",
                "\n",
                "    % cat myfile.txt \n",
                "    Ven 27 aoû 2021 11:52:48 CEST"
            ],
            "cell_type": "markdown",
            "metadata": {}
        },
        {
            "source": [
                "## Ajouter dans un ficher\n",
                "\n",
                "La commande `>>` permet d'ajouter du texte à la fin d'un fichier.\n",
                "Si nous éxécutons trois fois la commande suivante\n",
                "\n",
                "    % date >> myfile.txt\n",
                "    % date >> myfile.txt\n",
                "    % date >> myfile.txt\n",
                "\n",
                "Cette fois le texte à été ajouté au fichier.\n",
                "\n",
                "    % cat myfile.txt \n",
                "    Ven 27 aoû 2021 11:52:48 CEST\n",
                "    Ven 27 aoû 2021 11:55:57 CEST\n",
                "    Ven 27 aoû 2021 11:55:59 CEST\n",
                "    Ven 27 aoû 2021 11:56:03 CEST\n"
            ],
            "cell_type": "markdown",
            "metadata": {}
        },
        {
            "source": [
                "## Diriger l'entrée du clavier vers un fichier.\n",
                "\n",
                "Si une source n'est pas spécifié l'entrée du clavier est assumé. \n",
                "Ceci permet de rediriger ce qui est tapé au clavier vers un fichier.\n",
                "Plusieurs ligne peuvent être ajouté.\n",
                "\n",
                "    % > file.txt\n",
                "    ceci est la premier ligne\n",
                "    ceci est la deuxième ligne\n",
                "\n",
                "    ligne 4\n",
                "    ^C\n",
                "\n",
                "La question qui se pose, comment on arrête ce processus ?\n",
                "La réponse c'est, il faut appuyer sur les touches `ctrl+C`.\n",
                "Vérifions le résultat: \n",
                "\n",
                "    % cat file.txt  \n",
                "    ceci est la premier ligne\n",
                "    ceci est la deuxième ligne\n",
                "\n",
                "    ligne 4\n"
            ],
            "cell_type": "markdown",
            "metadata": {}
        },
        {
            "source": [
                "## Compter les lignes, mots et caractères\n",
                "\n",
                "La commande `wc` (word count) permet de compter les\n",
                "- lignes\n",
                "- mots\n",
                "- caractères\n",
                "\n",
                "Par exemple le fichier précédent contient\n",
                "\n",
                "    % wc file.txt \n",
                "    4      12      63 file.txt\n",
                "\n",
                "- 4 lignes\n",
                "- 12 mots\n",
                "- 63 caractères\n",
                "\n",
                "Affichons un listing détaillé\n",
                "\n",
                "    % ls -l file.txt \n",
                "    -rw-r--r--  1 raphael  staff  63 27 aoû 11:59 file.txt\n",
                "\n",
                "Nous constatons que la taille est bien 63 octets.\n",
                "\n"
            ],
            "cell_type": "markdown",
            "metadata": {}
        },
        {
            "source": [
                "## Ouvir une application sur Mac\n",
                "\n",
                "La commande `open` permet d'ouvrir une application sur Mac\n",
                "\n",
                "    % open /System/Applications/Calculator.app\n",
                "    % open /System/Applications/Chess.app "
            ],
            "cell_type": "markdown",
            "metadata": {}
        },
        {
            "cell_type": "markdown",
            "source": [
                "## Einstein\n",
                "\n",
                "$$ E = m c^2 $$"
            ],
            "metadata": {}
        },
        {
            "source": [
                "# vitesse de la lumière (m/s)\n",
                "c = 300000000\n",
                "print('vitesse lumière =', c/1000, 'km/s')\n",
                "\n",
                "# masse (kg)\n",
                "m = 0.001\n",
                "print('masse =', m * 1000, 'g')\n",
                "\n",
                "# Energie\n",
                "E = m * c ** 2\n",
                "print(E)"
            ],
            "cell_type": "code",
            "metadata": {},
            "execution_count": 4,
            "outputs": [
                {
                    "output_type": "stream",
                    "name": "stdout",
                    "text": [
                        "vitesse lumière = 300000.0 km/s\nmasse = 1.0 g\n90000000000000.0\n"
                    ]
                }
            ]
        },
        {
            "cell_type": "code",
            "execution_count": null,
            "source": [],
            "outputs": [],
            "metadata": {}
        },
        {
            "cell_type": "code",
            "execution_count": null,
            "metadata": {},
            "outputs": [],
            "source": []
        }
    ],
    "metadata": {
        "orig_nbformat": 4,
        "language_info": {
            "name": "python",
            "version": "3.8.2",
            "mimetype": "text/x-python",
            "codemirror_mode": {
                "name": "ipython",
                "version": 3
            },
            "pygments_lexer": "ipython3",
            "nbconvert_exporter": "python",
            "file_extension": ".py"
        },
        "kernelspec": {
            "name": "python3",
            "display_name": "Python 3.8.2 64-bit"
        },
        "interpreter": {
            "hash": "0adcc2737ebf6a4a119f135174df96668767fca1ef1112612db5ecadf2b6d608"
        }
    },
    "nbformat": 4,
    "nbformat_minor": 2
}